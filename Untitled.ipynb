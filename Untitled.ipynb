{
 "cells": [
  {
   "cell_type": "markdown",
   "id": "1eacf58d",
   "metadata": {},
   "source": [
    "# Detecting Insurance Claims Fraud\n",
    "\n",
    "## Introduction\n",
    "\n",
    "Identifying fraudulent insurance claims is crucial for insurance companies to prevent financial losses. The main objective of this analysis is to predict whether an insurance claim is fraudulent (indicated by `fraud_reported` being `Y` or `N`) using various features related to the policyholder, the policy, and the claim.\n",
    "\n",
    "### Overview of the Dataset\n",
    "\n",
    "The dataset comprises information on 1,000 insurance claims, with 40 columns detailing the policyholder, the policy, the incident, and the claim itself. The target variable is `fraud_reported`, indicating if the claim is fraudulent.\n",
    "\n",
    "### Dataset Columns\n",
    "\n",
    "- **Numerical Columns**:\n",
    "  - `months_as_customer`: Duration (in months) the customer has been with the company.\n",
    "  - `age`: Age of the insured individual.\n",
    "  - `policy_number`: Unique identifier for the policy.\n",
    "  - `policy_deductable`: Deductible amount of the policy.\n",
    "  - `policy_annual_premium`: Annual premium of the policy.\n",
    "  - `umbrella_limit`: Umbrella limit of the policy.\n",
    "  - `insured_zip`: ZIP code of the insured.\n",
    "  - `capital-gains`: Capital gains of the insured.\n",
    "  - `capital-loss`: Capital loss of the insured.\n",
    "  - `incident_hour_of_the_day`: Hour when the incident occurred.\n",
    "  - `number_of_vehicles_involved`: Number of vehicles involved in the incident.\n",
    "  - `bodily_injuries`: Number of bodily injuries reported.\n",
    "  - `witnesses`: Number of witnesses to the incident.\n",
    "  - `total_claim_amount`: Total amount claimed.\n",
    "  - `injury_claim`: Amount claimed for injuries.\n",
    "  - `property_claim`: Amount claimed for property damage.\n",
    "  - `vehicle_claim`: Amount claimed for vehicle damage.\n",
    "  - `auto_year`: Year of the vehicle.\n",
    "\n",
    "- **Categorical Columns**:\n",
    "  - `policy_state`: State where the policy was issued.\n",
    "  - `policy_csl`: Combined Single Limit of the policy.\n",
    "  - `insured_sex`: Gender of the insured.\n",
    "  - `insured_education_level`: Education level of the insured.\n",
    "  - `insured_occupation`: Occupation of the insured.\n",
    "  - `insured_hobbies`: Hobbies of the insured.\n",
    "  - `insured_relationship`: Relationship status of the insured.\n",
    "  - `incident_type`: Type of incident.\n",
    "  - `collision_type`: Type of collision.\n",
    "  - `incident_severity`: Severity of the incident.\n",
    "  - `authorities_contacted`: Authorities contacted during the incident.\n",
    "  - `incident_state`: State where the incident occurred.\n",
    "  - `incident_city`: City where the incident occurred.\n",
    "  - `incident_location`: Specific location of the incident.\n",
    "  - `property_damage`: Indicator if there was property damage.\n",
    "  - `police_report_available`: Indicator if a police report is available.\n",
    "  - `auto_make`: Make of the vehicle.\n",
    "  - `auto_model`: Model of the vehicle.\n",
    "  - `fraud_reported`: Target column indicating fraud (`Y` or `N`).\n",
    "\n",
    "### Objectives of the Analysis\n",
    "\n",
    "1. **Exploratory Data Analysis (EDA)**:\n",
    "   - Understand data distribution and key features.\n",
    "   - Identify correlations between features and the target variable.\n",
    "   - Handle missing values and data imbalances.\n",
    "\n",
    "2. **Feature Engineering**:\n",
    "   - Properly encode categorical features.\n",
    "   - Normalize or standardize numerical features if needed.\n",
    "\n",
    "3. **Model Development**:\n",
    "   - Train and evaluate various machine learning models using scikit-learn.\n",
    "   - Compare model performance based on accuracy and other metrics.\n",
    "\n",
    "4. **Insights and Interpretations**:\n",
    "   - Extract meaningful insights to understand factors influencing fraud.\n",
    "   - Provide recommendations for improving fraud detection mechanisms.\n",
    "\n",
    "\n",
    "Now, let's proceed with the analysis to uncover valuable insights for detecting fraudulent insurance claims.\n"
   ]
  },
  {
   "cell_type": "code",
   "execution_count": null,
   "id": "5282db83",
   "metadata": {},
   "outputs": [],
   "source": []
  },
  {
   "cell_type": "markdown",
   "id": "465234a6",
   "metadata": {},
   "source": [
    "## 1.Exploratory Data Analysis (EDA)"
   ]
  },
  {
   "cell_type": "markdown",
   "id": "6507c609",
   "metadata": {},
   "source": [
    "### Import all the neccessary modules"
   ]
  },
  {
   "cell_type": "code",
   "execution_count": 10,
   "id": "62e351d4",
   "metadata": {},
   "outputs": [],
   "source": [
    "import pandas as pd\n",
    "from sklearn.model_selection import train_test_split\n",
    "from sklearn.preprocessing import LabelEncoder, StandardScaler\n",
    "from sklearn.metrics import accuracy_score, classification_report\n",
    "from sklearn.pipeline import Pipeline\n",
    "from imblearn.over_sampling import SMOTE\n",
    "from imblearn.under_sampling import RandomUnderSampler\n",
    "from sklearn.ensemble import GradientBoostingClassifier\n",
    "from sklearn.ensemble import AdaBoostClassifier\n",
    "from sklearn.ensemble import ExtraTreesClassifier\n",
    "import matplotlib.pyplot as plt\n",
    "import seaborn as sns"
   ]
  },
  {
   "cell_type": "code",
   "execution_count": 2,
   "id": "1c64d478",
   "metadata": {},
   "outputs": [],
   "source": [
    "df = pd.read_excel('insurance_claims_raw.xlsx')"
   ]
  },
  {
   "cell_type": "code",
   "execution_count": 4,
   "id": "a9a24287",
   "metadata": {},
   "outputs": [
    {
     "data": {
      "text/html": [
       "<div>\n",
       "<style scoped>\n",
       "    .dataframe tbody tr th:only-of-type {\n",
       "        vertical-align: middle;\n",
       "    }\n",
       "\n",
       "    .dataframe tbody tr th {\n",
       "        vertical-align: top;\n",
       "    }\n",
       "\n",
       "    .dataframe thead th {\n",
       "        text-align: right;\n",
       "    }\n",
       "</style>\n",
       "<table border=\"1\" class=\"dataframe\">\n",
       "  <thead>\n",
       "    <tr style=\"text-align: right;\">\n",
       "      <th></th>\n",
       "      <th>months_as_customer</th>\n",
       "      <th>age</th>\n",
       "      <th>policy_number</th>\n",
       "      <th>policy_bind_date</th>\n",
       "      <th>policy_state</th>\n",
       "      <th>policy_csl</th>\n",
       "      <th>policy_deductable</th>\n",
       "      <th>policy_annual_premium</th>\n",
       "      <th>umbrella_limit</th>\n",
       "      <th>insured_zip</th>\n",
       "      <th>...</th>\n",
       "      <th>police_report_available</th>\n",
       "      <th>total_claim_amount</th>\n",
       "      <th>injury_claim</th>\n",
       "      <th>property_claim</th>\n",
       "      <th>vehicle_claim</th>\n",
       "      <th>auto_make</th>\n",
       "      <th>auto_model</th>\n",
       "      <th>auto_year</th>\n",
       "      <th>fraud_reported</th>\n",
       "      <th>_c39</th>\n",
       "    </tr>\n",
       "  </thead>\n",
       "  <tbody>\n",
       "    <tr>\n",
       "      <th>0</th>\n",
       "      <td>328.0</td>\n",
       "      <td>48.0</td>\n",
       "      <td>521585.0</td>\n",
       "      <td>2014-10-17</td>\n",
       "      <td>OH</td>\n",
       "      <td>250/500</td>\n",
       "      <td>1000.0</td>\n",
       "      <td>1406.91</td>\n",
       "      <td>0.0</td>\n",
       "      <td>466132.0</td>\n",
       "      <td>...</td>\n",
       "      <td>YES</td>\n",
       "      <td>71610.0</td>\n",
       "      <td>6510.0</td>\n",
       "      <td>13020.0</td>\n",
       "      <td>52080.0</td>\n",
       "      <td>Saab</td>\n",
       "      <td>92x</td>\n",
       "      <td>2004.0</td>\n",
       "      <td>Y</td>\n",
       "      <td>NaN</td>\n",
       "    </tr>\n",
       "    <tr>\n",
       "      <th>1</th>\n",
       "      <td>228.0</td>\n",
       "      <td>42.0</td>\n",
       "      <td>342868.0</td>\n",
       "      <td>2006-06-27</td>\n",
       "      <td>IN</td>\n",
       "      <td>250/500</td>\n",
       "      <td>2000.0</td>\n",
       "      <td>1197.22</td>\n",
       "      <td>5000000.0</td>\n",
       "      <td>468176.0</td>\n",
       "      <td>...</td>\n",
       "      <td>?</td>\n",
       "      <td>5070.0</td>\n",
       "      <td>780.0</td>\n",
       "      <td>780.0</td>\n",
       "      <td>3510.0</td>\n",
       "      <td>Mercedes</td>\n",
       "      <td>E400</td>\n",
       "      <td>2007.0</td>\n",
       "      <td>Y</td>\n",
       "      <td>NaN</td>\n",
       "    </tr>\n",
       "    <tr>\n",
       "      <th>2</th>\n",
       "      <td>134.0</td>\n",
       "      <td>29.0</td>\n",
       "      <td>687698.0</td>\n",
       "      <td>2000-09-06</td>\n",
       "      <td>OH</td>\n",
       "      <td>100/300</td>\n",
       "      <td>2000.0</td>\n",
       "      <td>1413.14</td>\n",
       "      <td>5000000.0</td>\n",
       "      <td>430632.0</td>\n",
       "      <td>...</td>\n",
       "      <td>NO</td>\n",
       "      <td>34650.0</td>\n",
       "      <td>7700.0</td>\n",
       "      <td>3850.0</td>\n",
       "      <td>23100.0</td>\n",
       "      <td>Dodge</td>\n",
       "      <td>RAM</td>\n",
       "      <td>2007.0</td>\n",
       "      <td>N</td>\n",
       "      <td>NaN</td>\n",
       "    </tr>\n",
       "    <tr>\n",
       "      <th>3</th>\n",
       "      <td>256.0</td>\n",
       "      <td>41.0</td>\n",
       "      <td>227811.0</td>\n",
       "      <td>1990-05-25</td>\n",
       "      <td>IL</td>\n",
       "      <td>250/500</td>\n",
       "      <td>2000.0</td>\n",
       "      <td>1415.74</td>\n",
       "      <td>6000000.0</td>\n",
       "      <td>608117.0</td>\n",
       "      <td>...</td>\n",
       "      <td>NO</td>\n",
       "      <td>63400.0</td>\n",
       "      <td>6340.0</td>\n",
       "      <td>6340.0</td>\n",
       "      <td>50720.0</td>\n",
       "      <td>Chevrolet</td>\n",
       "      <td>Tahoe</td>\n",
       "      <td>2014.0</td>\n",
       "      <td>Y</td>\n",
       "      <td>NaN</td>\n",
       "    </tr>\n",
       "    <tr>\n",
       "      <th>4</th>\n",
       "      <td>228.0</td>\n",
       "      <td>44.0</td>\n",
       "      <td>367455.0</td>\n",
       "      <td>2014-06-06</td>\n",
       "      <td>IL</td>\n",
       "      <td>500/1000</td>\n",
       "      <td>1000.0</td>\n",
       "      <td>1583.91</td>\n",
       "      <td>6000000.0</td>\n",
       "      <td>610706.0</td>\n",
       "      <td>...</td>\n",
       "      <td>NO</td>\n",
       "      <td>6500.0</td>\n",
       "      <td>1300.0</td>\n",
       "      <td>650.0</td>\n",
       "      <td>4550.0</td>\n",
       "      <td>Accura</td>\n",
       "      <td>RSX</td>\n",
       "      <td>2009.0</td>\n",
       "      <td>N</td>\n",
       "      <td>NaN</td>\n",
       "    </tr>\n",
       "    <tr>\n",
       "      <th>...</th>\n",
       "      <td>...</td>\n",
       "      <td>...</td>\n",
       "      <td>...</td>\n",
       "      <td>...</td>\n",
       "      <td>...</td>\n",
       "      <td>...</td>\n",
       "      <td>...</td>\n",
       "      <td>...</td>\n",
       "      <td>...</td>\n",
       "      <td>...</td>\n",
       "      <td>...</td>\n",
       "      <td>...</td>\n",
       "      <td>...</td>\n",
       "      <td>...</td>\n",
       "      <td>...</td>\n",
       "      <td>...</td>\n",
       "      <td>...</td>\n",
       "      <td>...</td>\n",
       "      <td>...</td>\n",
       "      <td>...</td>\n",
       "      <td>...</td>\n",
       "    </tr>\n",
       "    <tr>\n",
       "      <th>995</th>\n",
       "      <td>3.0</td>\n",
       "      <td>38.0</td>\n",
       "      <td>941851.0</td>\n",
       "      <td>1991-07-16</td>\n",
       "      <td>OH</td>\n",
       "      <td>500/1000</td>\n",
       "      <td>1000.0</td>\n",
       "      <td>1310.80</td>\n",
       "      <td>0.0</td>\n",
       "      <td>431289.0</td>\n",
       "      <td>...</td>\n",
       "      <td>?</td>\n",
       "      <td>87200.0</td>\n",
       "      <td>17440.0</td>\n",
       "      <td>8720.0</td>\n",
       "      <td>61040.0</td>\n",
       "      <td>Honda</td>\n",
       "      <td>Accord</td>\n",
       "      <td>2006.0</td>\n",
       "      <td>N</td>\n",
       "      <td>NaN</td>\n",
       "    </tr>\n",
       "    <tr>\n",
       "      <th>996</th>\n",
       "      <td>285.0</td>\n",
       "      <td>41.0</td>\n",
       "      <td>186934.0</td>\n",
       "      <td>2014-01-05</td>\n",
       "      <td>IL</td>\n",
       "      <td>100/300</td>\n",
       "      <td>1000.0</td>\n",
       "      <td>1436.79</td>\n",
       "      <td>0.0</td>\n",
       "      <td>608177.0</td>\n",
       "      <td>...</td>\n",
       "      <td>?</td>\n",
       "      <td>108480.0</td>\n",
       "      <td>18080.0</td>\n",
       "      <td>18080.0</td>\n",
       "      <td>72320.0</td>\n",
       "      <td>Volkswagen</td>\n",
       "      <td>Passat</td>\n",
       "      <td>2015.0</td>\n",
       "      <td>N</td>\n",
       "      <td>NaN</td>\n",
       "    </tr>\n",
       "    <tr>\n",
       "      <th>997</th>\n",
       "      <td>130.0</td>\n",
       "      <td>34.0</td>\n",
       "      <td>918516.0</td>\n",
       "      <td>2003-02-17</td>\n",
       "      <td>OH</td>\n",
       "      <td>250/500</td>\n",
       "      <td>500.0</td>\n",
       "      <td>1383.49</td>\n",
       "      <td>3000000.0</td>\n",
       "      <td>442797.0</td>\n",
       "      <td>...</td>\n",
       "      <td>YES</td>\n",
       "      <td>67500.0</td>\n",
       "      <td>7500.0</td>\n",
       "      <td>7500.0</td>\n",
       "      <td>52500.0</td>\n",
       "      <td>Suburu</td>\n",
       "      <td>Impreza</td>\n",
       "      <td>1996.0</td>\n",
       "      <td>N</td>\n",
       "      <td>NaN</td>\n",
       "    </tr>\n",
       "    <tr>\n",
       "      <th>998</th>\n",
       "      <td>458.0</td>\n",
       "      <td>62.0</td>\n",
       "      <td>533940.0</td>\n",
       "      <td>2011-11-18</td>\n",
       "      <td>IL</td>\n",
       "      <td>500/1000</td>\n",
       "      <td>2000.0</td>\n",
       "      <td>1356.92</td>\n",
       "      <td>5000000.0</td>\n",
       "      <td>441714.0</td>\n",
       "      <td>...</td>\n",
       "      <td>YES</td>\n",
       "      <td>46980.0</td>\n",
       "      <td>5220.0</td>\n",
       "      <td>5220.0</td>\n",
       "      <td>36540.0</td>\n",
       "      <td>Audi</td>\n",
       "      <td>A5</td>\n",
       "      <td>1998.0</td>\n",
       "      <td>N</td>\n",
       "      <td>NaN</td>\n",
       "    </tr>\n",
       "    <tr>\n",
       "      <th>999</th>\n",
       "      <td>456.0</td>\n",
       "      <td>60.0</td>\n",
       "      <td>556080.0</td>\n",
       "      <td>1996-11-11</td>\n",
       "      <td>OH</td>\n",
       "      <td>250/500</td>\n",
       "      <td>1000.0</td>\n",
       "      <td>766.19</td>\n",
       "      <td>0.0</td>\n",
       "      <td>612260.0</td>\n",
       "      <td>...</td>\n",
       "      <td>?</td>\n",
       "      <td>5060.0</td>\n",
       "      <td>460.0</td>\n",
       "      <td>920.0</td>\n",
       "      <td>3680.0</td>\n",
       "      <td>Mercedes</td>\n",
       "      <td>E400</td>\n",
       "      <td>2007.0</td>\n",
       "      <td>N</td>\n",
       "      <td>NaN</td>\n",
       "    </tr>\n",
       "  </tbody>\n",
       "</table>\n",
       "<p>1000 rows × 40 columns</p>\n",
       "</div>"
      ],
      "text/plain": [
       "     months_as_customer   age  policy_number policy_bind_date policy_state  \\\n",
       "0                 328.0  48.0       521585.0       2014-10-17           OH   \n",
       "1                 228.0  42.0       342868.0       2006-06-27           IN   \n",
       "2                 134.0  29.0       687698.0       2000-09-06           OH   \n",
       "3                 256.0  41.0       227811.0       1990-05-25           IL   \n",
       "4                 228.0  44.0       367455.0       2014-06-06           IL   \n",
       "..                  ...   ...            ...              ...          ...   \n",
       "995                 3.0  38.0       941851.0       1991-07-16           OH   \n",
       "996               285.0  41.0       186934.0       2014-01-05           IL   \n",
       "997               130.0  34.0       918516.0       2003-02-17           OH   \n",
       "998               458.0  62.0       533940.0       2011-11-18           IL   \n",
       "999               456.0  60.0       556080.0       1996-11-11           OH   \n",
       "\n",
       "    policy_csl  policy_deductable  policy_annual_premium  umbrella_limit  \\\n",
       "0      250/500             1000.0                1406.91             0.0   \n",
       "1      250/500             2000.0                1197.22       5000000.0   \n",
       "2      100/300             2000.0                1413.14       5000000.0   \n",
       "3      250/500             2000.0                1415.74       6000000.0   \n",
       "4     500/1000             1000.0                1583.91       6000000.0   \n",
       "..         ...                ...                    ...             ...   \n",
       "995   500/1000             1000.0                1310.80             0.0   \n",
       "996    100/300             1000.0                1436.79             0.0   \n",
       "997    250/500              500.0                1383.49       3000000.0   \n",
       "998   500/1000             2000.0                1356.92       5000000.0   \n",
       "999    250/500             1000.0                 766.19             0.0   \n",
       "\n",
       "     insured_zip  ... police_report_available total_claim_amount injury_claim  \\\n",
       "0       466132.0  ...                     YES            71610.0       6510.0   \n",
       "1       468176.0  ...                       ?             5070.0        780.0   \n",
       "2       430632.0  ...                      NO            34650.0       7700.0   \n",
       "3       608117.0  ...                      NO            63400.0       6340.0   \n",
       "4       610706.0  ...                      NO             6500.0       1300.0   \n",
       "..           ...  ...                     ...                ...          ...   \n",
       "995     431289.0  ...                       ?            87200.0      17440.0   \n",
       "996     608177.0  ...                       ?           108480.0      18080.0   \n",
       "997     442797.0  ...                     YES            67500.0       7500.0   \n",
       "998     441714.0  ...                     YES            46980.0       5220.0   \n",
       "999     612260.0  ...                       ?             5060.0        460.0   \n",
       "\n",
       "    property_claim vehicle_claim   auto_make  auto_model auto_year  \\\n",
       "0          13020.0       52080.0        Saab         92x    2004.0   \n",
       "1            780.0        3510.0    Mercedes        E400    2007.0   \n",
       "2           3850.0       23100.0       Dodge         RAM    2007.0   \n",
       "3           6340.0       50720.0   Chevrolet       Tahoe    2014.0   \n",
       "4            650.0        4550.0      Accura         RSX    2009.0   \n",
       "..             ...           ...         ...         ...       ...   \n",
       "995         8720.0       61040.0       Honda      Accord    2006.0   \n",
       "996        18080.0       72320.0  Volkswagen      Passat    2015.0   \n",
       "997         7500.0       52500.0      Suburu     Impreza    1996.0   \n",
       "998         5220.0       36540.0        Audi          A5    1998.0   \n",
       "999          920.0        3680.0    Mercedes        E400    2007.0   \n",
       "\n",
       "    fraud_reported _c39  \n",
       "0                Y  NaN  \n",
       "1                Y  NaN  \n",
       "2                N  NaN  \n",
       "3                Y  NaN  \n",
       "4                N  NaN  \n",
       "..             ...  ...  \n",
       "995              N  NaN  \n",
       "996              N  NaN  \n",
       "997              N  NaN  \n",
       "998              N  NaN  \n",
       "999              N  NaN  \n",
       "\n",
       "[1000 rows x 40 columns]"
      ]
     },
     "execution_count": 4,
     "metadata": {},
     "output_type": "execute_result"
    }
   ],
   "source": [
    "df"
   ]
  },
  {
   "cell_type": "code",
   "execution_count": 4,
   "id": "2e93dc72",
   "metadata": {},
   "outputs": [
    {
     "name": "stdout",
     "output_type": "stream",
     "text": [
      "<class 'pandas.core.frame.DataFrame'>\n",
      "RangeIndex: 1000 entries, 0 to 999\n",
      "Data columns (total 40 columns):\n",
      " #   Column                       Non-Null Count  Dtype         \n",
      "---  ------                       --------------  -----         \n",
      " 0   months_as_customer           1000 non-null   float64       \n",
      " 1   age                          998 non-null    float64       \n",
      " 2   policy_number                1000 non-null   float64       \n",
      " 3   policy_bind_date             1000 non-null   datetime64[ns]\n",
      " 4   policy_state                 1000 non-null   object        \n",
      " 5   policy_csl                   1000 non-null   object        \n",
      " 6   policy_deductable            998 non-null    float64       \n",
      " 7   policy_annual_premium        997 non-null    float64       \n",
      " 8   umbrella_limit               1000 non-null   float64       \n",
      " 9   insured_zip                  1000 non-null   float64       \n",
      " 10  insured_sex                  1000 non-null   object        \n",
      " 11  insured_education_level      999 non-null    object        \n",
      " 12  insured_occupation           1000 non-null   object        \n",
      " 13  insured_hobbies              998 non-null    object        \n",
      " 14  insured_relationship         1000 non-null   object        \n",
      " 15  capital-gains                998 non-null    float64       \n",
      " 16  capital-loss                 1000 non-null   float64       \n",
      " 17  incident_date                1000 non-null   datetime64[ns]\n",
      " 18  incident_type                1000 non-null   object        \n",
      " 19  collision_type               1000 non-null   object        \n",
      " 20  incident_severity            1000 non-null   object        \n",
      " 21  authorities_contacted        998 non-null    object        \n",
      " 22  incident_state               998 non-null    object        \n",
      " 23  incident_city                1000 non-null   object        \n",
      " 24  incident_location            1000 non-null   object        \n",
      " 25  incident_hour_of_the_day     1000 non-null   float64       \n",
      " 26  number_of_vehicles_involved  1000 non-null   float64       \n",
      " 27  property_damage              1000 non-null   object        \n",
      " 28  bodily_injuries              1000 non-null   float64       \n",
      " 29  witnesses                    1000 non-null   float64       \n",
      " 30  police_report_available      1000 non-null   object        \n",
      " 31  total_claim_amount           996 non-null    float64       \n",
      " 32  injury_claim                 999 non-null    float64       \n",
      " 33  property_claim               999 non-null    float64       \n",
      " 34  vehicle_claim                1000 non-null   float64       \n",
      " 35  auto_make                    1000 non-null   object        \n",
      " 36  auto_model                   1000 non-null   object        \n",
      " 37  auto_year                    1000 non-null   float64       \n",
      " 38  fraud_reported               1000 non-null   object        \n",
      " 39  _c39                         0 non-null      float64       \n",
      "dtypes: datetime64[ns](2), float64(19), object(19)\n",
      "memory usage: 312.6+ KB\n",
      "None\n"
     ]
    }
   ],
   "source": [
    "# Get basic information\n",
    "print(df.info())"
   ]
  },
  {
   "cell_type": "code",
   "execution_count": 5,
   "id": "319aa601",
   "metadata": {},
   "outputs": [
    {
     "name": "stdout",
     "output_type": "stream",
     "text": [
      "       months_as_customer         age  policy_number  policy_deductable  \\\n",
      "count         1000.000000  998.000000    1000.000000         998.000000   \n",
      "mean           203.954000   38.962926  546238.648000        1134.268537   \n",
      "std            115.113174    9.135425  257063.005276         611.251914   \n",
      "min              0.000000   19.000000  100804.000000         500.000000   \n",
      "25%            115.750000   32.000000  335980.250000         500.000000   \n",
      "50%            199.500000   38.000000  533135.000000        1000.000000   \n",
      "75%            276.250000   44.000000  759099.750000        2000.000000   \n",
      "max            479.000000   64.000000  999435.000000        2000.000000   \n",
      "\n",
      "       policy_annual_premium  umbrella_limit    insured_zip  capital-gains  \\\n",
      "count             997.000000    1.000000e+03    1000.000000     998.000000   \n",
      "mean             1257.001113    1.101000e+06  501214.488000   25176.452906   \n",
      "std               244.265051    2.297407e+06   71701.610941   27877.379027   \n",
      "min               433.330000   -1.000000e+06  430104.000000       0.000000   \n",
      "25%              1090.320000    0.000000e+00  448404.500000       0.000000   \n",
      "50%              1257.830000    0.000000e+00  466445.500000       0.000000   \n",
      "75%              1415.740000    0.000000e+00  603251.000000   51075.000000   \n",
      "max              2047.590000    1.000000e+07  620962.000000  100500.000000   \n",
      "\n",
      "        capital-loss  incident_hour_of_the_day  number_of_vehicles_involved  \\\n",
      "count    1000.000000               1000.000000                   1000.00000   \n",
      "mean   -26793.700000                 11.644000                      1.83900   \n",
      "std     28104.096686                  6.951373                      1.01888   \n",
      "min   -111100.000000                  0.000000                      1.00000   \n",
      "25%    -51500.000000                  6.000000                      1.00000   \n",
      "50%    -23250.000000                 12.000000                      1.00000   \n",
      "75%         0.000000                 17.000000                      3.00000   \n",
      "max         0.000000                 23.000000                      4.00000   \n",
      "\n",
      "       bodily_injuries    witnesses  total_claim_amount  injury_claim  \\\n",
      "count      1000.000000  1000.000000          996.000000    999.000000   \n",
      "mean          0.992000     1.487000        52767.469880   7434.944945   \n",
      "std           0.820127     1.111335        26405.348039   4883.158265   \n",
      "min           0.000000     0.000000          100.000000      0.000000   \n",
      "25%           0.000000     1.000000        41812.500000   4290.000000   \n",
      "50%           1.000000     1.000000        57935.000000   6780.000000   \n",
      "75%           2.000000     2.000000        70620.000000  11310.000000   \n",
      "max           2.000000     3.000000       114920.000000  21450.000000   \n",
      "\n",
      "       property_claim  vehicle_claim    auto_year  _c39  \n",
      "count      999.000000    1000.000000  1000.000000   0.0  \n",
      "mean      7398.628629   37928.950000  2005.103000   NaN  \n",
      "std       4827.050887   18886.252893     6.015861   NaN  \n",
      "min          0.000000      70.000000  1995.000000   NaN  \n",
      "25%       4440.000000   30292.500000  2000.000000   NaN  \n",
      "50%       6750.000000   42100.000000  2005.000000   NaN  \n",
      "75%      10890.000000   50822.500000  2010.000000   NaN  \n",
      "max      23670.000000   79560.000000  2015.000000   NaN  \n"
     ]
    }
   ],
   "source": [
    "# Get summary statistics for numerical columns\n",
    "print(df.describe())"
   ]
  },
  {
   "cell_type": "code",
   "execution_count": 6,
   "id": "56fb635e",
   "metadata": {},
   "outputs": [
    {
     "name": "stdout",
     "output_type": "stream",
     "text": [
      "       policy_state policy_csl insured_sex insured_education_level  \\\n",
      "count          1000       1000        1000                     999   \n",
      "unique            3          3           2                       7   \n",
      "top              OH    250/500      FEMALE                      JD   \n",
      "freq            352        351         537                     161   \n",
      "\n",
      "       insured_occupation insured_hobbies insured_relationship  \\\n",
      "count                1000             998                 1000   \n",
      "unique                 14              20                    6   \n",
      "top     machine-op-inspct         reading            own-child   \n",
      "freq                   93              64                  183   \n",
      "\n",
      "                  incident_type  collision_type incident_severity  \\\n",
      "count                      1000            1000              1000   \n",
      "unique                        4               4                 4   \n",
      "top     Multi-vehicle Collision  Rear Collision      Minor Damage   \n",
      "freq                        419             292               354   \n",
      "\n",
      "       authorities_contacted incident_state incident_city incident_location  \\\n",
      "count                    998            998          1000              1000   \n",
      "unique                     5              7             7              1000   \n",
      "top                   Police             NY   Springfield    9935 4th Drive   \n",
      "freq                     292            262           157                 1   \n",
      "\n",
      "       property_damage police_report_available auto_make auto_model  \\\n",
      "count             1000                    1000      1000       1000   \n",
      "unique               3                       3        14         39   \n",
      "top                  ?                       ?      Saab        RAM   \n",
      "freq               360                     343        80         43   \n",
      "\n",
      "       fraud_reported  \n",
      "count            1000  \n",
      "unique              2  \n",
      "top                 N  \n",
      "freq              753  \n"
     ]
    }
   ],
   "source": [
    "# Get summary statistics for categorical columns\n",
    "print(df.describe(include=['object']))"
   ]
  },
  {
   "cell_type": "code",
   "execution_count": 9,
   "id": "e08019bb",
   "metadata": {},
   "outputs": [
    {
     "name": "stdout",
     "output_type": "stream",
     "text": [
      "months_as_customer                0\n",
      "age                               2\n",
      "policy_number                     0\n",
      "policy_bind_date                  0\n",
      "policy_state                      0\n",
      "policy_csl                        0\n",
      "policy_deductable                 2\n",
      "policy_annual_premium             3\n",
      "umbrella_limit                    0\n",
      "insured_zip                       0\n",
      "insured_sex                       0\n",
      "insured_education_level           1\n",
      "insured_occupation                0\n",
      "insured_hobbies                   2\n",
      "insured_relationship              0\n",
      "capital-gains                     2\n",
      "capital-loss                      0\n",
      "incident_date                     0\n",
      "incident_type                     0\n",
      "collision_type                    0\n",
      "incident_severity                 0\n",
      "authorities_contacted             2\n",
      "incident_state                    2\n",
      "incident_city                     0\n",
      "incident_location                 0\n",
      "incident_hour_of_the_day          0\n",
      "number_of_vehicles_involved       0\n",
      "property_damage                   0\n",
      "bodily_injuries                   0\n",
      "witnesses                         0\n",
      "police_report_available           0\n",
      "total_claim_amount                4\n",
      "injury_claim                      1\n",
      "property_claim                    1\n",
      "vehicle_claim                     0\n",
      "auto_make                         0\n",
      "auto_model                        0\n",
      "auto_year                         0\n",
      "fraud_reported                    0\n",
      "_c39                           1000\n",
      "dtype: int64\n"
     ]
    }
   ],
   "source": [
    "# Check for missing values\n",
    "print(df.isnull().sum())"
   ]
  },
  {
   "cell_type": "code",
   "execution_count": 3,
   "id": "dcd22ef4",
   "metadata": {},
   "outputs": [],
   "source": [
    "# Drop the unnecessary column _c39\n",
    "df = df.drop('_c39', axis=1)\n",
    "\n",
    "# Handle missing values (if any)\n",
    "df = df.dropna()"
   ]
  },
  {
   "cell_type": "code",
   "execution_count": null,
   "id": "f5681f81",
   "metadata": {},
   "outputs": [],
   "source": []
  },
  {
   "cell_type": "code",
   "execution_count": 5,
   "id": "469c3435",
   "metadata": {},
   "outputs": [
    {
     "data": {
      "text/html": [
       "<div>\n",
       "<style scoped>\n",
       "    .dataframe tbody tr th:only-of-type {\n",
       "        vertical-align: middle;\n",
       "    }\n",
       "\n",
       "    .dataframe tbody tr th {\n",
       "        vertical-align: top;\n",
       "    }\n",
       "\n",
       "    .dataframe thead th {\n",
       "        text-align: right;\n",
       "    }\n",
       "</style>\n",
       "<table border=\"1\" class=\"dataframe\">\n",
       "  <thead>\n",
       "    <tr style=\"text-align: right;\">\n",
       "      <th></th>\n",
       "      <th>months_as_customer</th>\n",
       "      <th>age</th>\n",
       "      <th>policy_number</th>\n",
       "      <th>policy_bind_date</th>\n",
       "      <th>policy_state</th>\n",
       "      <th>policy_csl</th>\n",
       "      <th>policy_deductable</th>\n",
       "      <th>policy_annual_premium</th>\n",
       "      <th>umbrella_limit</th>\n",
       "      <th>insured_zip</th>\n",
       "      <th>...</th>\n",
       "      <th>witnesses</th>\n",
       "      <th>police_report_available</th>\n",
       "      <th>total_claim_amount</th>\n",
       "      <th>injury_claim</th>\n",
       "      <th>property_claim</th>\n",
       "      <th>vehicle_claim</th>\n",
       "      <th>auto_make</th>\n",
       "      <th>auto_model</th>\n",
       "      <th>auto_year</th>\n",
       "      <th>fraud_reported</th>\n",
       "    </tr>\n",
       "  </thead>\n",
       "  <tbody>\n",
       "    <tr>\n",
       "      <th>0</th>\n",
       "      <td>328.0</td>\n",
       "      <td>48.0</td>\n",
       "      <td>521585.0</td>\n",
       "      <td>2014-10-17</td>\n",
       "      <td>OH</td>\n",
       "      <td>250/500</td>\n",
       "      <td>1000.0</td>\n",
       "      <td>1406.91</td>\n",
       "      <td>0.0</td>\n",
       "      <td>466132.0</td>\n",
       "      <td>...</td>\n",
       "      <td>2.0</td>\n",
       "      <td>YES</td>\n",
       "      <td>71610.0</td>\n",
       "      <td>6510.0</td>\n",
       "      <td>13020.0</td>\n",
       "      <td>52080.0</td>\n",
       "      <td>Saab</td>\n",
       "      <td>92x</td>\n",
       "      <td>2004.0</td>\n",
       "      <td>Y</td>\n",
       "    </tr>\n",
       "    <tr>\n",
       "      <th>1</th>\n",
       "      <td>228.0</td>\n",
       "      <td>42.0</td>\n",
       "      <td>342868.0</td>\n",
       "      <td>2006-06-27</td>\n",
       "      <td>IN</td>\n",
       "      <td>250/500</td>\n",
       "      <td>2000.0</td>\n",
       "      <td>1197.22</td>\n",
       "      <td>5000000.0</td>\n",
       "      <td>468176.0</td>\n",
       "      <td>...</td>\n",
       "      <td>0.0</td>\n",
       "      <td>?</td>\n",
       "      <td>5070.0</td>\n",
       "      <td>780.0</td>\n",
       "      <td>780.0</td>\n",
       "      <td>3510.0</td>\n",
       "      <td>Mercedes</td>\n",
       "      <td>E400</td>\n",
       "      <td>2007.0</td>\n",
       "      <td>Y</td>\n",
       "    </tr>\n",
       "    <tr>\n",
       "      <th>2</th>\n",
       "      <td>134.0</td>\n",
       "      <td>29.0</td>\n",
       "      <td>687698.0</td>\n",
       "      <td>2000-09-06</td>\n",
       "      <td>OH</td>\n",
       "      <td>100/300</td>\n",
       "      <td>2000.0</td>\n",
       "      <td>1413.14</td>\n",
       "      <td>5000000.0</td>\n",
       "      <td>430632.0</td>\n",
       "      <td>...</td>\n",
       "      <td>3.0</td>\n",
       "      <td>NO</td>\n",
       "      <td>34650.0</td>\n",
       "      <td>7700.0</td>\n",
       "      <td>3850.0</td>\n",
       "      <td>23100.0</td>\n",
       "      <td>Dodge</td>\n",
       "      <td>RAM</td>\n",
       "      <td>2007.0</td>\n",
       "      <td>N</td>\n",
       "    </tr>\n",
       "    <tr>\n",
       "      <th>5</th>\n",
       "      <td>256.0</td>\n",
       "      <td>39.0</td>\n",
       "      <td>104594.0</td>\n",
       "      <td>2006-10-12</td>\n",
       "      <td>OH</td>\n",
       "      <td>250/500</td>\n",
       "      <td>1000.0</td>\n",
       "      <td>1351.10</td>\n",
       "      <td>0.0</td>\n",
       "      <td>478456.0</td>\n",
       "      <td>...</td>\n",
       "      <td>2.0</td>\n",
       "      <td>NO</td>\n",
       "      <td>64100.0</td>\n",
       "      <td>6410.0</td>\n",
       "      <td>6410.0</td>\n",
       "      <td>51280.0</td>\n",
       "      <td>Saab</td>\n",
       "      <td>95.0</td>\n",
       "      <td>2003.0</td>\n",
       "      <td>Y</td>\n",
       "    </tr>\n",
       "    <tr>\n",
       "      <th>7</th>\n",
       "      <td>165.0</td>\n",
       "      <td>37.0</td>\n",
       "      <td>429027.0</td>\n",
       "      <td>1990-02-03</td>\n",
       "      <td>IL</td>\n",
       "      <td>100/300</td>\n",
       "      <td>1000.0</td>\n",
       "      <td>1137.03</td>\n",
       "      <td>0.0</td>\n",
       "      <td>603195.0</td>\n",
       "      <td>...</td>\n",
       "      <td>2.0</td>\n",
       "      <td>YES</td>\n",
       "      <td>51590.0</td>\n",
       "      <td>9380.0</td>\n",
       "      <td>9380.0</td>\n",
       "      <td>32830.0</td>\n",
       "      <td>Audi</td>\n",
       "      <td>A5</td>\n",
       "      <td>2015.0</td>\n",
       "      <td>N</td>\n",
       "    </tr>\n",
       "    <tr>\n",
       "      <th>...</th>\n",
       "      <td>...</td>\n",
       "      <td>...</td>\n",
       "      <td>...</td>\n",
       "      <td>...</td>\n",
       "      <td>...</td>\n",
       "      <td>...</td>\n",
       "      <td>...</td>\n",
       "      <td>...</td>\n",
       "      <td>...</td>\n",
       "      <td>...</td>\n",
       "      <td>...</td>\n",
       "      <td>...</td>\n",
       "      <td>...</td>\n",
       "      <td>...</td>\n",
       "      <td>...</td>\n",
       "      <td>...</td>\n",
       "      <td>...</td>\n",
       "      <td>...</td>\n",
       "      <td>...</td>\n",
       "      <td>...</td>\n",
       "      <td>...</td>\n",
       "    </tr>\n",
       "    <tr>\n",
       "      <th>995</th>\n",
       "      <td>3.0</td>\n",
       "      <td>38.0</td>\n",
       "      <td>941851.0</td>\n",
       "      <td>1991-07-16</td>\n",
       "      <td>OH</td>\n",
       "      <td>500/1000</td>\n",
       "      <td>1000.0</td>\n",
       "      <td>1310.80</td>\n",
       "      <td>0.0</td>\n",
       "      <td>431289.0</td>\n",
       "      <td>...</td>\n",
       "      <td>1.0</td>\n",
       "      <td>?</td>\n",
       "      <td>87200.0</td>\n",
       "      <td>17440.0</td>\n",
       "      <td>8720.0</td>\n",
       "      <td>61040.0</td>\n",
       "      <td>Honda</td>\n",
       "      <td>Accord</td>\n",
       "      <td>2006.0</td>\n",
       "      <td>N</td>\n",
       "    </tr>\n",
       "    <tr>\n",
       "      <th>996</th>\n",
       "      <td>285.0</td>\n",
       "      <td>41.0</td>\n",
       "      <td>186934.0</td>\n",
       "      <td>2014-01-05</td>\n",
       "      <td>IL</td>\n",
       "      <td>100/300</td>\n",
       "      <td>1000.0</td>\n",
       "      <td>1436.79</td>\n",
       "      <td>0.0</td>\n",
       "      <td>608177.0</td>\n",
       "      <td>...</td>\n",
       "      <td>3.0</td>\n",
       "      <td>?</td>\n",
       "      <td>108480.0</td>\n",
       "      <td>18080.0</td>\n",
       "      <td>18080.0</td>\n",
       "      <td>72320.0</td>\n",
       "      <td>Volkswagen</td>\n",
       "      <td>Passat</td>\n",
       "      <td>2015.0</td>\n",
       "      <td>N</td>\n",
       "    </tr>\n",
       "    <tr>\n",
       "      <th>997</th>\n",
       "      <td>130.0</td>\n",
       "      <td>34.0</td>\n",
       "      <td>918516.0</td>\n",
       "      <td>2003-02-17</td>\n",
       "      <td>OH</td>\n",
       "      <td>250/500</td>\n",
       "      <td>500.0</td>\n",
       "      <td>1383.49</td>\n",
       "      <td>3000000.0</td>\n",
       "      <td>442797.0</td>\n",
       "      <td>...</td>\n",
       "      <td>3.0</td>\n",
       "      <td>YES</td>\n",
       "      <td>67500.0</td>\n",
       "      <td>7500.0</td>\n",
       "      <td>7500.0</td>\n",
       "      <td>52500.0</td>\n",
       "      <td>Suburu</td>\n",
       "      <td>Impreza</td>\n",
       "      <td>1996.0</td>\n",
       "      <td>N</td>\n",
       "    </tr>\n",
       "    <tr>\n",
       "      <th>998</th>\n",
       "      <td>458.0</td>\n",
       "      <td>62.0</td>\n",
       "      <td>533940.0</td>\n",
       "      <td>2011-11-18</td>\n",
       "      <td>IL</td>\n",
       "      <td>500/1000</td>\n",
       "      <td>2000.0</td>\n",
       "      <td>1356.92</td>\n",
       "      <td>5000000.0</td>\n",
       "      <td>441714.0</td>\n",
       "      <td>...</td>\n",
       "      <td>1.0</td>\n",
       "      <td>YES</td>\n",
       "      <td>46980.0</td>\n",
       "      <td>5220.0</td>\n",
       "      <td>5220.0</td>\n",
       "      <td>36540.0</td>\n",
       "      <td>Audi</td>\n",
       "      <td>A5</td>\n",
       "      <td>1998.0</td>\n",
       "      <td>N</td>\n",
       "    </tr>\n",
       "    <tr>\n",
       "      <th>999</th>\n",
       "      <td>456.0</td>\n",
       "      <td>60.0</td>\n",
       "      <td>556080.0</td>\n",
       "      <td>1996-11-11</td>\n",
       "      <td>OH</td>\n",
       "      <td>250/500</td>\n",
       "      <td>1000.0</td>\n",
       "      <td>766.19</td>\n",
       "      <td>0.0</td>\n",
       "      <td>612260.0</td>\n",
       "      <td>...</td>\n",
       "      <td>3.0</td>\n",
       "      <td>?</td>\n",
       "      <td>5060.0</td>\n",
       "      <td>460.0</td>\n",
       "      <td>920.0</td>\n",
       "      <td>3680.0</td>\n",
       "      <td>Mercedes</td>\n",
       "      <td>E400</td>\n",
       "      <td>2007.0</td>\n",
       "      <td>N</td>\n",
       "    </tr>\n",
       "  </tbody>\n",
       "</table>\n",
       "<p>979 rows × 39 columns</p>\n",
       "</div>"
      ],
      "text/plain": [
       "     months_as_customer   age  policy_number policy_bind_date policy_state  \\\n",
       "0                 328.0  48.0       521585.0       2014-10-17           OH   \n",
       "1                 228.0  42.0       342868.0       2006-06-27           IN   \n",
       "2                 134.0  29.0       687698.0       2000-09-06           OH   \n",
       "5                 256.0  39.0       104594.0       2006-10-12           OH   \n",
       "7                 165.0  37.0       429027.0       1990-02-03           IL   \n",
       "..                  ...   ...            ...              ...          ...   \n",
       "995                 3.0  38.0       941851.0       1991-07-16           OH   \n",
       "996               285.0  41.0       186934.0       2014-01-05           IL   \n",
       "997               130.0  34.0       918516.0       2003-02-17           OH   \n",
       "998               458.0  62.0       533940.0       2011-11-18           IL   \n",
       "999               456.0  60.0       556080.0       1996-11-11           OH   \n",
       "\n",
       "    policy_csl  policy_deductable  policy_annual_premium  umbrella_limit  \\\n",
       "0      250/500             1000.0                1406.91             0.0   \n",
       "1      250/500             2000.0                1197.22       5000000.0   \n",
       "2      100/300             2000.0                1413.14       5000000.0   \n",
       "5      250/500             1000.0                1351.10             0.0   \n",
       "7      100/300             1000.0                1137.03             0.0   \n",
       "..         ...                ...                    ...             ...   \n",
       "995   500/1000             1000.0                1310.80             0.0   \n",
       "996    100/300             1000.0                1436.79             0.0   \n",
       "997    250/500              500.0                1383.49       3000000.0   \n",
       "998   500/1000             2000.0                1356.92       5000000.0   \n",
       "999    250/500             1000.0                 766.19             0.0   \n",
       "\n",
       "     insured_zip  ... witnesses police_report_available total_claim_amount  \\\n",
       "0       466132.0  ...       2.0                     YES            71610.0   \n",
       "1       468176.0  ...       0.0                       ?             5070.0   \n",
       "2       430632.0  ...       3.0                      NO            34650.0   \n",
       "5       478456.0  ...       2.0                      NO            64100.0   \n",
       "7       603195.0  ...       2.0                     YES            51590.0   \n",
       "..           ...  ...       ...                     ...                ...   \n",
       "995     431289.0  ...       1.0                       ?            87200.0   \n",
       "996     608177.0  ...       3.0                       ?           108480.0   \n",
       "997     442797.0  ...       3.0                     YES            67500.0   \n",
       "998     441714.0  ...       1.0                     YES            46980.0   \n",
       "999     612260.0  ...       3.0                       ?             5060.0   \n",
       "\n",
       "    injury_claim property_claim  vehicle_claim   auto_make auto_model  \\\n",
       "0         6510.0        13020.0        52080.0        Saab        92x   \n",
       "1          780.0          780.0         3510.0    Mercedes       E400   \n",
       "2         7700.0         3850.0        23100.0       Dodge        RAM   \n",
       "5         6410.0         6410.0        51280.0        Saab       95.0   \n",
       "7         9380.0         9380.0        32830.0        Audi         A5   \n",
       "..           ...            ...            ...         ...        ...   \n",
       "995      17440.0         8720.0        61040.0       Honda     Accord   \n",
       "996      18080.0        18080.0        72320.0  Volkswagen     Passat   \n",
       "997       7500.0         7500.0        52500.0      Suburu    Impreza   \n",
       "998       5220.0         5220.0        36540.0        Audi         A5   \n",
       "999        460.0          920.0         3680.0    Mercedes       E400   \n",
       "\n",
       "    auto_year fraud_reported  \n",
       "0      2004.0              Y  \n",
       "1      2007.0              Y  \n",
       "2      2007.0              N  \n",
       "5      2003.0              Y  \n",
       "7      2015.0              N  \n",
       "..        ...            ...  \n",
       "995    2006.0              N  \n",
       "996    2015.0              N  \n",
       "997    1996.0              N  \n",
       "998    1998.0              N  \n",
       "999    2007.0              N  \n",
       "\n",
       "[979 rows x 39 columns]"
      ]
     },
     "execution_count": 5,
     "metadata": {},
     "output_type": "execute_result"
    }
   ],
   "source": [
    "df"
   ]
  },
  {
   "cell_type": "markdown",
   "id": "1aa99509",
   "metadata": {},
   "source": [
    "#### Incident Severity and Fraud Reporting\n",
    "Let's look at the distribution of incident severity and its relationship with fraud reporting."
   ]
  },
  {
   "cell_type": "code",
   "execution_count": 11,
   "id": "1e4d7fe5",
   "metadata": {},
   "outputs": [
    {
     "data": {
      "image/png": "[encoded data removed]",
      "text/plain": [
       "<Figure size 864x432 with 1 Axes>"
      ]
     },
     "metadata": {
      "needs_background": "light"
     },
     "output_type": "display_data"
    },
    {
     "data": {
      "image/png": "[encoded data removed]",
      "text/plain": [
       "<Figure size 864x432 with 1 Axes>"
      ]
     },
     "metadata": {
      "needs_background": "light"
     },
     "output_type": "display_data"
    }
   ],
   "source": [
    "# Set up the plot\n",
    "plt.figure(figsize=(12, 6))\n",
    "\n",
    "# Plot incident severity distribution\n",
    "sns.countplot(x='incident_severity', data=df, palette='viridis')\n",
    "plt.title('Incident Severity Distribution')\n",
    "plt.xlabel('Incident Severity')\n",
    "plt.ylabel('Count')\n",
    "plt.show()\n",
    "\n",
    "# Plot relationship between incident severity and fraud reporting\n",
    "plt.figure(figsize=(12, 6))\n",
    "sns.countplot(x='incident_severity', hue='fraud_reported', data=df, palette='viridis')\n",
    "plt.title('Incident Severity vs Fraud Reporting')\n",
    "plt.xlabel('Incident Severity')\n",
    "plt.ylabel('Count')\n",
    "plt.show()"
   ]
  },
  {
   "cell_type": "markdown",
   "id": "65dd43ab",
   "metadata": {},
   "source": [
    " #### Policy State and Claims\n",
    "Let's examine the distribution of claims across different policy states."
   ]
  },
  {
   "cell_type": "code",
   "execution_count": 12,
   "id": "57dfa6dc",
   "metadata": {},
   "outputs": [
    {
     "data": {
      "image/png": "[encoded data removed]",
      "text/plain": [
       "<Figure size 864x432 with 1 Axes>"
      ]
     },
     "metadata": {
      "needs_background": "light"
     },
     "output_type": "display_data"
    },
    {
     "data": {
      "image/png": "[encoded data removed]",
      "text/plain": [
       "<Figure size 864x432 with 1 Axes>"
      ]
     },
     "metadata": {
      "needs_background": "light"
     },
     "output_type": "display_data"
    }
   ],
   "source": [
    "# Set up the plot\n",
    "plt.figure(figsize=(12, 6))\n",
    "\n",
    "# Plot policy state distribution\n",
    "sns.countplot(x='policy_state', data=df, palette='viridis')\n",
    "plt.title('Policy State Distribution')\n",
    "plt.xlabel('Policy State')\n",
    "plt.ylabel('Count')\n",
    "plt.show()\n",
    "\n",
    "# Plot relationship between policy state and fraud reporting\n",
    "plt.figure(figsize=(12, 6))\n",
    "sns.countplot(x='policy_state', hue='fraud_reported', data=df, palette='viridis')\n",
    "plt.title('Policy State vs Fraud Reporting')\n",
    "plt.xlabel('Policy State')\n",
    "plt.ylabel('Count')\n",
    "plt.show()\n"
   ]
  },
  {
   "cell_type": "code",
   "execution_count": 13,
   "id": "c1de5db4",
   "metadata": {},
   "outputs": [
    {
     "data": {
      "image/png": "[encoded data removed]",
      "text/plain": [
       "<Figure size 864x432 with 1 Axes>"
      ]
     },
     "metadata": {
      "needs_background": "light"
     },
     "output_type": "display_data"
    },
    {
     "data": {
      "image/png": "[encoded data removed]",
      "text/plain": [
       "<Figure size 864x432 with 1 Axes>"
      ]
     },
     "metadata": {
      "needs_background": "light"
     },
     "output_type": "display_data"
    }
   ],
   "source": [
    "# Set up the plot\n",
    "plt.figure(figsize=(12, 6))\n",
    "\n",
    "# Plot policy state distribution\n",
    "sns.countplot(x='policy_state', data=df, palette='viridis')\n",
    "plt.title('Policy State Distribution')\n",
    "plt.xlabel('Policy State')\n",
    "plt.ylabel('Count')\n",
    "plt.show()\n",
    "\n",
    "# Plot relationship between policy state and fraud reporting\n",
    "plt.figure(figsize=(12, 6))\n",
    "sns.countplot(x='policy_state', hue='fraud_reported', data=df, palette='viridis')\n",
    "plt.title('Policy State vs Fraud Reporting')\n",
    "plt.xlabel('Policy State')\n",
    "plt.ylabel('Count')\n",
    "plt.show()"
   ]
  },
  {
   "cell_type": "markdown",
   "id": "8120fb86",
   "metadata": {},
   "source": [
    "#### Total Claim Amount Distribution\n",
    "Let's look at the distribution of total claim amounts and see if there's a difference in the claim amounts for fraud vs. non-fraud cases."
   ]
  },
  {
   "cell_type": "code",
   "execution_count": 14,
   "id": "d5803098",
   "metadata": {},
   "outputs": [
    {
     "data": {
      "image/png": "[encoded data removed]",
      "text/plain": [
       "<Figure size 864x432 with 1 Axes>"
      ]
     },
     "metadata": {
      "needs_background": "light"
     },
     "output_type": "display_data"
    },
    {
     "data": {
      "image/png": "[encoded data removed]",
      "text/plain": [
       "<Figure size 864x432 with 1 Axes>"
      ]
     },
     "metadata": {
      "needs_background": "light"
     },
     "output_type": "display_data"
    }
   ],
   "source": [
    "# Set up the plot\n",
    "plt.figure(figsize=(12, 6))\n",
    "\n",
    "# Plot total claim amount distribution\n",
    "sns.histplot(df['total_claim_amount'].dropna(), bins=30, kde=True)\n",
    "plt.title('Total Claim Amount Distribution')\n",
    "plt.xlabel('Total Claim Amount')\n",
    "plt.ylabel('Frequency')\n",
    "plt.show()\n",
    "\n",
    "# Plot relationship between total claim amount and fraud reporting\n",
    "plt.figure(figsize=(12, 6))\n",
    "sns.boxplot(x='fraud_reported', y='total_claim_amount', data=df)\n",
    "plt.title('Total Claim Amount vs Fraud Reporting')\n",
    "plt.xlabel('Fraud Reported')\n",
    "plt.ylabel('Total Claim Amount')\n",
    "plt.show()\n"
   ]
  },
  {
   "cell_type": "markdown",
   "id": "3e507d89",
   "metadata": {},
   "source": [
    "## Detailed Findings\n",
    "### 1. Incident Severity:\n",
    "\n",
    "The majority of incidents are categorized as minor damage, with fewer incidents categorized as major damage or total loss.\n",
    "Fraudulent claims are more common in severe incidents, particularly in cases of major damage and total loss, suggesting that incident severity might be a factor in fraud reporting.\n",
    "### 2. Policy State Distribution:\n",
    "\n",
    "Claims are fairly evenly distributed across different policy states.\n",
    "The relationship between policy state and fraud reporting shows that some states have higher incidences of fraud reporting, indicating that location might play a role in fraud detection.\n",
    "### 3. Total Claim Amount Distribution:\n",
    "\n",
    "The total claim amount distribution shows a wide range of claim values, with a concentration of claims around lower amounts.\n",
    "The box plot indicates that fraudulent claims tend to have a higher median claim amount compared to non-fraudulent claims, suggesting that higher claim amounts might be associated with fraud."
   ]
  },
  {
   "cell_type": "markdown",
   "id": "e81032c7",
   "metadata": {},
   "source": [
    "### Additional EDA\n",
    "1. Gender and Fraud Reporting:   \n",
    "Let's analyze if there's any significant difference in fraud reporting between genders."
   ]
  },
  {
   "cell_type": "code",
   "execution_count": 15,
   "id": "3050a32c",
   "metadata": {},
   "outputs": [
    {
     "data": {
      "image/png": "[encoded data removed]",
      "text/plain": [
       "<Figure size 864x432 with 1 Axes>"
      ]
     },
     "metadata": {
      "needs_background": "light"
     },
     "output_type": "display_data"
    }
   ],
   "source": [
    "# Plot relationship between insured sex and fraud reporting\n",
    "plt.figure(figsize=(12, 6))\n",
    "sns.countplot(x='insured_sex', hue='fraud_reported', data=df, palette='viridis')\n",
    "plt.title('Insured Sex vs Fraud Reporting')\n",
    "plt.xlabel('Insured Sex')\n",
    "plt.ylabel('Count')\n",
    "plt.show()"
   ]
  },
  {
   "cell_type": "markdown",
   "id": "9337b057",
   "metadata": {},
   "source": [
    "2. Education Level and Fraud Reporting:   \n",
    "Let's examine the distribution of fraud cases across different education levels."
   ]
  },
  {
   "cell_type": "code",
   "execution_count": 16,
   "id": "00799bf9",
   "metadata": {},
   "outputs": [
    {
     "data": {
      "image/png": "[encoded data removed]",
      "text/plain": [
       "<Figure size 864x432 with 1 Axes>"
      ]
     },
     "metadata": {
      "needs_background": "light"
     },
     "output_type": "display_data"
    }
   ],
   "source": [
    "# Plot relationship between insured education level and fraud reporting\n",
    "plt.figure(figsize=(12, 6))\n",
    "sns.countplot(x='insured_education_level', hue='fraud_reported', data=df, palette='viridis')\n",
    "plt.title('Insured Education Level vs Fraud Reporting')\n",
    "plt.xlabel('Insured Education Level')\n",
    "plt.ylabel('Count')\n",
    "plt.show()"
   ]
  },
  {
   "cell_type": "markdown",
   "id": "83faffd0",
   "metadata": {},
   "source": [
    "3. Occupation and Fraud Reporting:    \n",
    "Let's see if certain occupations have higher rates of fraud reporting."
   ]
  },
  {
   "cell_type": "code",
   "execution_count": 17,
   "id": "6975d0b0",
   "metadata": {},
   "outputs": [
    {
     "data": {
      "image/png": "[encoded data removed]",
      "text/plain": [
       "<Figure size 864x432 with 1 Axes>"
      ]
     },
     "metadata": {
      "needs_background": "light"
     },
     "output_type": "display_data"
    }
   ],
   "source": [
    "# Plot relationship between insured occupation and fraud reporting\n",
    "plt.figure(figsize=(12, 6))\n",
    "sns.countplot(x='insured_occupation', hue='fraud_reported', data=df, palette='viridis')\n",
    "plt.title('Insured Occupation vs Fraud Reporting')\n",
    "plt.xlabel('Insured Occupation')\n",
    "plt.ylabel('Count')\n",
    "plt.xticks(rotation=90)\n",
    "plt.show()"
   ]
  },
  {
   "cell_type": "markdown",
   "id": "17d832d1",
   "metadata": {},
   "source": [
    "4. Hobbies and Fraud Reporting:   \n",
    "Let's explore if certain hobbies are more common among those reporting fraud."
   ]
  },
  {
   "cell_type": "code",
   "execution_count": 18,
   "id": "7aa6b88a",
   "metadata": {},
   "outputs": [
    {
     "data": {
      "image/png": "[encoded data removed]",
      "text/plain": [
       "<Figure size 864x432 with 1 Axes>"
      ]
     },
     "metadata": {
      "needs_background": "light"
     },
     "output_type": "display_data"
    }
   ],
   "source": [
    "# Plot relationship between insured hobbies and fraud reporting\n",
    "plt.figure(figsize=(12, 6))\n",
    "sns.countplot(x='insured_hobbies', hue='fraud_reported', data=df, palette='viridis')\n",
    "plt.title('Insured Hobbies vs Fraud Reporting')\n",
    "plt.xlabel('Insured Hobbies')\n",
    "plt.ylabel('Count')\n",
    "plt.xticks(rotation=90)\n",
    "plt.show()"
   ]
  },
  {
   "cell_type": "markdown",
   "id": "255daaf3",
   "metadata": {},
   "source": [
    "5. Authorities Contacted and Fraud Reporting:  \n",
    "Let's analyze the relationship between contacting authorities and fraud reporting."
   ]
  },
  {
   "cell_type": "code",
   "execution_count": 19,
   "id": "f2b5f06a",
   "metadata": {},
   "outputs": [
    {
     "data": {
      "image/png": "[encoded data removed]",
      "text/plain": [
       "<Figure size 864x432 with 1 Axes>"
      ]
     },
     "metadata": {
      "needs_background": "light"
     },
     "output_type": "display_data"
    }
   ],
   "source": [
    "# Plot relationship between authorities contacted and fraud reporting\n",
    "plt.figure(figsize=(12, 6))\n",
    "sns.countplot(x='authorities_contacted', hue='fraud_reported', data=df, palette='viridis')\n",
    "plt.title('Authorities Contacted vs Fraud Reporting')\n",
    "plt.xlabel('Authorities Contacted')\n",
    "plt.ylabel('Count')\n",
    "plt.show()"
   ]
  },
  {
   "cell_type": "markdown",
   "id": "b5e74278",
   "metadata": {},
   "source": [
    "6. Property Damage and Fraud Reporting:   \n",
    "Let's examine if there is a significant relationship between property damage and fraud reporting."
   ]
  },
  {
   "cell_type": "code",
   "execution_count": 20,
   "id": "a305d308",
   "metadata": {},
   "outputs": [
    {
     "data": {
      "image/png": "[encoded data removed]",
      "text/plain": [
       "<Figure size 864x432 with 1 Axes>"
      ]
     },
     "metadata": {
      "needs_background": "light"
     },
     "output_type": "display_data"
    }
   ],
   "source": [
    "# Plot relationship between property damage and fraud reporting\n",
    "plt.figure(figsize=(12, 6))\n",
    "sns.countplot(x='property_damage', hue='fraud_reported', data=df, palette='viridis')\n",
    "plt.title('Property Damage vs Fraud Reporting')\n",
    "plt.xlabel('Property Damage')\n",
    "plt.ylabel('Count')\n",
    "plt.show()"
   ]
  },
  {
   "cell_type": "markdown",
   "id": "4554a8c0",
   "metadata": {},
   "source": [
    "7. Vehicle Make and Fraud Reporting:   \n",
    "Let's explore if certain vehicle makes are more likely to be associated with fraud."
   ]
  },
  {
   "cell_type": "code",
   "execution_count": 21,
   "id": "6fc74418",
   "metadata": {},
   "outputs": [
    {
     "data": {
      "image/png": "[encoded data removed]",
      "text/plain": [
       "<Figure size 864x432 with 1 Axes>"
      ]
     },
     "metadata": {
      "needs_background": "light"
     },
     "output_type": "display_data"
    }
   ],
   "source": [
    "# Plot relationship between vehicle make and fraud reporting\n",
    "plt.figure(figsize=(12, 6))\n",
    "sns.countplot(x='auto_make', hue='fraud_reported', data=df, palette='viridis')\n",
    "plt.title('Vehicle Make vs Fraud Reporting')\n",
    "plt.xlabel('Vehicle Make')\n",
    "plt.ylabel('Count')\n",
    "plt.xticks(rotation=90)\n",
    "plt.show()"
   ]
  },
  {
   "cell_type": "markdown",
   "id": "18c95874",
   "metadata": {},
   "source": [
    "## Additional Insights\n",
    "\n",
    "### 1. Gender and Fraud Reporting\n",
    "* The distribution of fraud cases between males and females is relatively balanced.\n",
    "* Both males and females report fraud at similar rates, indicating that gender may not be a significant factor in predicting fraud.\n",
    "\n",
    "### 2. Education Level and Fraud Reporting\n",
    "* People with high school education and those with a master's degree seem to have slightly higher instances of fraud reporting.\n",
    "* This could indicate that education level might have some influence on fraud reporting, although further analysis is needed to confirm this.\n",
    "\n",
    "### 3. Occupation and Fraud Reporting\n",
    "* Certain occupations, such as \"Executive\" and \"Doctor\", have a higher number of fraud reports.\n",
    "* Occupation could be a potential factor in fraud prediction, with specific job roles showing higher tendencies for fraud.\n",
    "\n",
    "### 4. Hobbies and Fraud Reporting\n",
    "* Hobbies such as \"chess\" and \"cross-fit\" appear to have a higher number of fraud reports.\n",
    "* This suggests that individuals with certain hobbies may be more likely to report fraud, potentially due to personality traits associated with these activities.\n",
    "\n",
    "### 5. Authorities Contacted and Fraud Reporting\n",
    "* Fraud is reported more frequently when the police or fire department are contacted.\n",
    "* This indicates that involving authorities in an incident might be associated with a higher likelihood of fraud.\n",
    "\n",
    "### 6. Property Damage and Fraud Reporting\n",
    "* Fraud is reported more frequently when there is property damage.\n",
    "* This suggests that property damage might be a strong indicator of potential fraud.\n",
    "\n",
    "### 7. Vehicle Make and Fraud Reporting\n",
    "* Certain vehicle makes, such as \"Accura\" and \"BMW\", have higher instances of fraud reports.\n",
    "* This implies that the make of the vehicle might be a factor in fraud prediction, with luxury or high-value brands showing higher tendencies for fraud."
   ]
  },
  {
   "cell_type": "code",
   "execution_count": 16,
   "id": "dfaa6172",
   "metadata": {},
   "outputs": [
    {
     "data": {
      "image/png": "[encoded data removed]",
      "text/plain": [
       "<Figure size 576x432 with 1 Axes>"
      ]
     },
     "metadata": {
      "needs_background": "light"
     },
     "output_type": "display_data"
    }
   ],
   "source": [
    "# Distribution of the target variable\n",
    "plt.figure(figsize=(8, 6))\n",
    "sns.countplot(x='fraud_reported', data=df)\n",
    "plt.title('Distribution of Fraud Reported')\n",
    "plt.show()\n",
    "\n"
   ]
  },
  {
   "cell_type": "code",
   "execution_count": null,
   "id": "2f200b3f",
   "metadata": {},
   "outputs": [],
   "source": []
  },
  {
   "cell_type": "markdown",
   "id": "0db01d15",
   "metadata": {},
   "source": [
    "## 2. Feature Engineering"
   ]
  },
  {
   "cell_type": "code",
   "execution_count": 4,
   "id": "92046b1d",
   "metadata": {},
   "outputs": [],
   "source": [
    "# Convert all columns to string type\n",
    "df = df.astype(str)\n",
    "\n",
    "# Encode categorical variables\n",
    "label_encoders = {}\n",
    "for column in df.select_dtypes(include=['object']).columns:\n",
    "    label_encoders[column] = LabelEncoder()\n",
    "    df[column] = label_encoders[column].fit_transform(df[column])"
   ]
  },
  {
   "cell_type": "code",
   "execution_count": 5,
   "id": "8fa8f47a",
   "metadata": {},
   "outputs": [],
   "source": [
    "X = df.drop('fraud_reported', axis=1)\n",
    "y = df['fraud_reported']\n",
    "\n",
    "# Split the data into training and testing sets\n",
    "X_train, X_test, y_train, y_test = train_test_split(X, y, test_size=0.2, random_state=42)"
   ]
  },
  {
   "cell_type": "code",
   "execution_count": 6,
   "id": "5359570c",
   "metadata": {},
   "outputs": [
    {
     "name": "stdout",
     "output_type": "stream",
     "text": [
      "Original dataset shape: (783, 38)\n",
      "Resampled dataset shape (SMOTE): (1194, 38)\n",
      "Resampled dataset shape (RandomUnderSampler): (372, 38)\n"
     ]
    }
   ],
   "source": [
    "\n",
    "\n",
    "# Apply RandomUnderSampler to balance the target column in the training set\n",
    "rus = RandomUnderSampler(random_state=42)\n",
    "X_train_balanced_rus, y_train_balanced_rus = rus.fit_resample(X_train, y_train)\n",
    "\n",
    "print(f'Resampled dataset shape (RandomUnderSampler): {X_train_balanced_rus.shape}')"
   ]
  },
  {
   "cell_type": "markdown",
   "id": "c0f01bcc",
   "metadata": {},
   "source": [
    "## 3. Model Development\n",
    "Here we'll train multiple machine learning models and evaluate their performance.\n",
    "The models we decided to go with are:   \n",
    "\n",
    "- `Gradient Boosting Classifier`: This builds multiple decision trees sequentially. Each tree focuses on correcting the errors made by the previous one, ultimately leading to a more accurate ensemble model. It's powerful but can be computationally expensive.\n",
    "\n",
    "- `AdaBoost Classifier`: Similar to Gradient Boosting, it also builds decision trees sequentially. However, AdaBoost focuses on giving more weight to data points that the previous trees struggled with, making the next tree better at handling those difficult cases.\n",
    "\n",
    "- `ExtraTrees Classifier`: This is like a random forest, but instead of randomly selecting features at each split in a decision tree, it randomly selects a subset of features with replacement. This means a feature can be chosen multiple times within a single tree, potentially reducing variance and improving performance."
   ]
  },
  {
   "cell_type": "code",
   "execution_count": 7,
   "id": "3334dce1",
   "metadata": {},
   "outputs": [],
   "source": [
    "models = {\n",
    "    'GradientBoostingClassifier': GradientBoostingClassifier(random_state=42),\n",
    "    'AdaBoostClassifier': AdaBoostClassifier(random_state=42),\n",
    "    'ExtraTreesClassifier': ExtraTreesClassifier(random_state=42)\n",
    "}"
   ]
  },
  {
   "cell_type": "code",
   "execution_count": 8,
   "id": "069a8d6d",
   "metadata": {},
   "outputs": [],
   "source": [
    "def accuracy(x,y):\n",
    "    for model_name, model in models.items():\n",
    "        pipeline = Pipeline([\n",
    "            ('scaler', StandardScaler()),\n",
    "            ('classifier', model)\n",
    "        ])\n",
    "        pipeline.fit(x, y)\n",
    "        y_pred = pipeline.predict(X_test)\n",
    "        accuracy = accuracy_score(y_test, y_pred)\n",
    "        print(f'{model_name} Accuracy: {accuracy}')\n",
    "        print(classification_report(y_test, y_pred))"
   ]
  },
  {
   "cell_type": "code",
   "execution_count": 9,
   "id": "d83d4893",
   "metadata": {},
   "outputs": [
    {
     "name": "stdout",
     "output_type": "stream",
     "text": [
      "GradientBoostingClassifier Accuracy: 0.8316326530612245\n",
      "              precision    recall  f1-score   support\n",
      "\n",
      "           0       0.90      0.87      0.88       141\n",
      "           1       0.68      0.75      0.71        55\n",
      "\n",
      "    accuracy                           0.83       196\n",
      "   macro avg       0.79      0.81      0.80       196\n",
      "weighted avg       0.84      0.83      0.83       196\n",
      "\n"
     ]
    },
    {
     "name": "stderr",
     "output_type": "stream",
     "text": [
      "C:\\Users\\Dell\\anaconda3\\lib\\site-packages\\sklearn\\ensemble\\_weight_boosting.py:527: FutureWarning: The SAMME.R algorithm (the default) is deprecated and will be removed in 1.6. Use the SAMME algorithm to circumvent this warning.\n",
      "  warnings.warn(\n"
     ]
    },
    {
     "name": "stdout",
     "output_type": "stream",
     "text": [
      "AdaBoostClassifier Accuracy: 0.7959183673469388\n",
      "              precision    recall  f1-score   support\n",
      "\n",
      "           0       0.89      0.82      0.85       141\n",
      "           1       0.61      0.75      0.67        55\n",
      "\n",
      "    accuracy                           0.80       196\n",
      "   macro avg       0.75      0.78      0.76       196\n",
      "weighted avg       0.81      0.80      0.80       196\n",
      "\n",
      "ExtraTreesClassifier Accuracy: 0.7142857142857143\n",
      "              precision    recall  f1-score   support\n",
      "\n",
      "           0       0.83      0.76      0.79       141\n",
      "           1       0.49      0.60      0.54        55\n",
      "\n",
      "    accuracy                           0.71       196\n",
      "   macro avg       0.66      0.68      0.67       196\n",
      "weighted avg       0.73      0.71      0.72       196\n",
      "\n"
     ]
    }
   ],
   "source": [
    "accuracy(X_train_balanced_rus, y_train_balanced_rus)"
   ]
  },
  {
   "cell_type": "markdown",
   "id": "7bb78f84",
   "metadata": {},
   "source": [
    "## Conclusion and Recommendations\n",
    "\n",
    "### Conclusion\n",
    "\n",
    "The analysis of the insurance claims dataset has revealed several key insights regarding factors that influence fraud detection. These insights can guide the development of more effective fraud detection strategies:\n",
    "\n",
    "\n",
    "1. **Incident Severity**:\n",
    "   - Fraudulent claims are more commonly associated with severe incidents, such as major damage and total loss. This indicates that higher incident severity is correlated with a higher likelihood of fraud reporting.\n",
    "\n",
    "2. **Policy State**:\n",
    "   - Certain states exhibit higher incidences of fraud reporting, suggesting that geographical factors may play a role in fraudulent activity or fraud detection practices.\n",
    "\n",
    "3. **Total Claim Amount**:\n",
    "   - Fraudulent claims tend to have higher median claim amounts. Higher claim amounts might be indicative of potential fraud, necessitating closer scrutiny.\n",
    "\n",
    "4. **Gender**:\n",
    "   - Fraud reporting rates are similar between males and females, indicating that gender is not a significant factor in predicting fraud.\n",
    "\n",
    "5. **Education Level**:\n",
    "   - People with high school education and master's degrees show slightly higher fraud reporting rates, suggesting that education level might have some influence on fraud detection.\n",
    "\n",
    "6. **Occupation**:\n",
    "   - Certain occupations, such as \"Executive\" and \"Doctor\", are associated with higher fraud reporting rates, indicating that job roles may influence fraudulent behavior.\n",
    "\n",
    "7. **Hobbies**:\n",
    "   - Specific hobbies, such as \"chess\" and \"cross-fit\", have higher fraud reporting rates, potentially due to personality traits associated with these activities.\n",
    "\n",
    "8. **Authorities Contacted**:\n",
    "   - Involving authorities like the police or fire department in an incident is associated with higher fraud reporting, indicating that official involvement might be linked to higher fraud detection.\n",
    "\n",
    "9. **Property Damage**:\n",
    "    - Incidents involving property damage are more likely to be associated with fraud, highlighting property damage as a strong indicator of potential fraud.\n",
    "\n",
    "10. **Vehicle Make**:\n",
    "    - Certain vehicle makes, particularly luxury or high-value brands, have higher instances of fraud reports, suggesting that the make of the vehicle could be a factor in fraud prediction.\n",
    "\n",
    "### Recommendations\n",
    "\n",
    "Based on these insights, the following recommendations can help improve fraud detection strategies:\n",
    "\n",
    "1. **Focus on Incident Severity**:\n",
    "   - Pay closer attention to claims involving severe incidents, especially those categorized as major damage or total loss, as these are more likely to be fraudulent.\n",
    "\n",
    "2. **Geographical Analysis**:\n",
    "   - Implement region-specific fraud detection practices, focusing on states with higher incidences of fraud reporting to tailor fraud prevention measures.\n",
    "\n",
    "3. **Scrutinize High Claim Amounts**:\n",
    "   - Develop additional checks and validation processes for claims with high amounts, as these are more likely to be fraudulent.\n",
    "\n",
    "4. **Educate Policyholders**:\n",
    "   - Conduct awareness campaigns and provide educational resources to policyholders, particularly those with high school education or higher degrees, to reduce fraudulent behavior.\n",
    "\n",
    "5. **Monitor High-Risk Occupations**:\n",
    "   - Implement stricter verification processes for claims submitted by policyholders in occupations associated with higher fraud rates, such as \"Executives\" and \"Doctors\".\n",
    "\n",
    "6. **Analyze Policyholder Hobbies**:\n",
    "   - Consider including policyholder hobbies in the fraud detection models, as certain hobbies are associated with higher fraud reporting rates.\n",
    "\n",
    "7. **Involve Authorities**:\n",
    "   - Encourage policyholders to involve authorities like the police or fire department during incidents, as official involvement correlates with higher fraud detection rates.\n",
    "\n",
    "8. **Property Damage Verification**:\n",
    "   - Implement thorough verification processes for claims involving property damage, as these are strong indicators of potential fraud.\n",
    "\n",
    "9. **Vehicle Make Analysis**:\n",
    "   - Pay special attention to claims involving high-value or luxury vehicle makes, as these are more likely to be associated with fraud.\n",
    "\n",
    "By incorporating these recommendations, insurance companies can enhance their fraud detection capabilities, reduce financial losses, and ensure fair treatment for genuine claimants."
   ]
  },
  {
   "cell_type": "code",
   "execution_count": null,
   "id": "da6a4ca7",
   "metadata": {},
   "outputs": [],
   "source": []
  }
 ],
 "metadata": {
  "kernelspec": {
   "display_name": "Python 3 (ipykernel)",
   "language": "python",
   "name": "python3"
  },
  "language_info": {
   "codemirror_mode": {
    "name": "ipython",
    "version": 3
   },
   "file_extension": ".py",
   "mimetype": "text/x-python",
   "name": "python",
   "nbconvert_exporter": "python",
   "pygments_lexer": "ipython3",
   "version": "3.9.7"
  }
 },
 "nbformat": 4,
 "nbformat_minor": 5
}
